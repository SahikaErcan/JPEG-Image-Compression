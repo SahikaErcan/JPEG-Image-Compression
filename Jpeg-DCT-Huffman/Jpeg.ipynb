{
 "cells": [
  {
   "cell_type": "code",
   "execution_count": 1,
   "id": "3755d9a8",
   "metadata": {},
   "outputs": [],
   "source": [
    "from collections import Counter\n",
    "import numpy as np\n",
    "from math import ceil\n",
    "import cv2"
   ]
  },
  {
   "cell_type": "markdown",
   "id": "8a8c4e61",
   "metadata": {},
   "source": [
    "<div class=\"alert alert-block alert-info\">\n",
    "    <b>Zigzag: </b>Amacı matris elemanlarını düşük frekanstan yüksek frekansa dogru artacak biçimde dizmektir.\n",
    "Böylece ilk sıradaki eleman DC katsayı olacaktır. Kuantalama blogunda sıfırlanan elemanlar ise \n",
    "burada yan yana gelecektir.Bu durum kodlama kısmında kolaylık saglayacaktır.\n",
    "</div>"
   ]
  },
  {
   "cell_type": "code",
   "execution_count": 2,
   "id": "c9d2919e",
   "metadata": {},
   "outputs": [],
   "source": [
    "def zigzag(matrix: np.ndarray) -> np.ndarray:\n",
    "    # nicelenmiş bir bloğun zigzagını hesaplar.\n",
    "    # değişkenleri başlatma\n",
    "    h = 0\n",
    "    v = 0\n",
    "    v_min = 0\n",
    "    h_min = 0\n",
    "    v_max = matrix.shape[0]\n",
    "    h_max = matrix.shape[1]\n",
    "    i = 0\n",
    "    output = np.zeros((v_max * h_max))\n",
    "\n",
    "    while (v < v_max) and (h < h_max):\n",
    "        if ((h + v) % 2) == 0:  # yukarı çık\n",
    "            if v == v_min:\n",
    "                output[i] = matrix[v, h]  # İlk satır\n",
    "                if h == h_max:\n",
    "                    v = v + 1\n",
    "                else:\n",
    "                    h = h + 1\n",
    "                i = i + 1\n",
    "            elif (h == h_max - 1) and (v < v_max):  # son sütun\n",
    "                output[i] = matrix[v, h]\n",
    "                v = v + 1\n",
    "                i = i + 1\n",
    "            elif (v > v_min) and (h < h_max - 1):  # diğer tüm durumlar\n",
    "                output[i] = matrix[v, h]\n",
    "                v = v - 1\n",
    "                h = h + 1\n",
    "                i = i + 1\n",
    "        else:  # aşağı git\n",
    "            if (v == v_max - 1) and (h <= h_max - 1):  # son satır\n",
    "                output[i] = matrix[v, h]\n",
    "                h = h + 1\n",
    "                i = i + 1\n",
    "            elif h == h_min:  # ilk sütun\n",
    "                output[i] = matrix[v, h]\n",
    "                if v == v_max - 1:\n",
    "                    h = h + 1\n",
    "                else:\n",
    "                    v = v + 1\n",
    "                i = i + 1\n",
    "            elif (v < v_max - 1) and (h > h_min):  # diğer tüm durumlar\n",
    "                output[i] = matrix[v, h]\n",
    "                v = v + 1\n",
    "                h = h - 1\n",
    "                i = i + 1\n",
    "        if (v == v_max - 1) and (h == h_max - 1):  # sağ alt eleman\n",
    "            output[i] = matrix[v, h]\n",
    "            break\n",
    "    return output"
   ]
  },
  {
   "cell_type": "code",
   "execution_count": 3,
   "id": "29fa5aad",
   "metadata": {},
   "outputs": [],
   "source": [
    "def trim(array: np.ndarray) -> np.ndarray:\n",
    "    \"\"\"\n",
    "    trim_zeros(): diziden baştaki ve/veya sondaki sıfırları kırpın.\n",
    "    trim_zeros işlevinin boş bir dizi döndürmesi durumunda, DC bileşeni olarak kullanmak için diziye bir sıfır ekleyin\n",
    "    \"\"\"\n",
    "    trimmed = np.trim_zeros(array, 'b') # arkadaki sıfırları siler\n",
    "    if len(trimmed) == 0:\n",
    "        trimmed = np.zeros(1)\n",
    "    return trimmed"
   ]
  },
  {
   "cell_type": "markdown",
   "id": "2398d1af",
   "metadata": {},
   "source": [
    "<div class=\"alert alert-block alert-info\">\n",
    "<b>AC Dizi Uzunlugu (Run Length) Kodlama</b><br>\n",
    "Kuantalama ve zig-zag bloklarından sonra içinde birçok sıfır içeren dizi elde edilmişti.\n",
    "Bu aşamada her 8x8’lik blokta yer alan 63 adet AC katsayı kodlanır. \n",
    "Örnek olarak 57, 45, 0, 0, 0, 0, 23, 0, -30, -16, 0, 0, 1, 0 .... 0 şeklinde bir dizi varsa \n",
    "AC dizi uzunlugu kodlaması şu şekilde olacaktır: (0,57); (0,45); (4,23); (1,-30); (0,-16); (2,1); EOB.\n",
    "EOB (End of Block) kodu özel olarak belirlenmiştir. Eger zig-zag blogundan gelen vektörün kalan \n",
    "elemanlarının hepsi 0 ise EOB blogu konularak bütün sıfırların gönderilmesi engellenebilir. \n",
    "Eger zig-zag blogundan gelen vektör 0 ile bitmiyorsa, yani son eleman 0 degil ise, EOB koyulmaz.\n",
    "</div>"
   ]
  },
  {
   "cell_type": "code",
   "execution_count": 4,
   "id": "f99549d9",
   "metadata": {},
   "outputs": [],
   "source": [
    "def run_length_encoding(array: np.ndarray) -> list:    # çalışma uzunluğu kodlaması\n",
    "    \"\"\"\n",
    "    zikzakları temsil eden ara akışı bulur\n",
    "    DC bileşenlerinin formatı <size><amplitude (genişlik)> şeklindedir.\n",
    "    AC bileşenleri için biçim <run_length, size> <Amplitude of non-zero> şeklindedir.\n",
    "    :param numpy.ndarray array: dizideki zikzak vektörleri\n",
    "    \"\"\"\n",
    "    encoded = list()\n",
    "    run_length = 0\n",
    "    eob = (\"EOB\",)\n",
    "\n",
    "    for i in range(len(array)):\n",
    "        for j in range(len(array[i])):\n",
    "            trimmed = trim(array[i]) # arkadaki sıfırlar silindi.\n",
    "            if j == len(trimmed):\n",
    "                encoded.append(eob)  # Arkadaki sıfırların olduğu konuma geldiğinde EOB ekle.\n",
    "                break\n",
    "            if i == 0 and j == 0:  # ilk DC bileşeni için\n",
    "                encoded.append((int(trimmed[j]).bit_length(), trimmed[j]))\n",
    "# int.bit_length(): İşaret ve baştaki sıfırlar hariç, bir tamsayıyı ikili sistemde temsil etmek için gereken bit sayısını döndürür.\n",
    "            elif j == 0:  # DC bileşenleri arasındaki farkı hesaplamak için\n",
    "                diff = int(array[i][j] - array[i - 1][j])\n",
    "                if diff != 0:\n",
    "                    encoded.append((diff.bit_length(), diff))\n",
    "                else:\n",
    "                    encoded.append((1, diff))\n",
    "                run_length = 0\n",
    "            elif trimmed[j] == 0:  # sıfır olması durumunda çalışma_uzunluğunu bir artırın\n",
    "                run_length += 1\n",
    "            else:  # AC bileşenlerinin ara buhar gösterimi\n",
    "                encoded.append((run_length, int(trimmed[j]).bit_length(), trimmed[j]))\n",
    "                run_length = 0\n",
    "            # EOB gönder\n",
    "        if not (encoded[len(encoded) - 1] == eob):\n",
    "            encoded.append(eob)\n",
    "    return encoded"
   ]
  },
  {
   "cell_type": "code",
   "execution_count": 5,
   "id": "d866b3b8",
   "metadata": {},
   "outputs": [],
   "source": [
    "def get_freq_dict(array: list) -> dict:\n",
    "    \"\"\"\n",
    "    tuşların dizinin değerleri olduğu ve değerlerin frekansları olduğu bir sözlük döndürür.\n",
    "    :param numpy.ndarray array: dizi olarak ara akış\n",
    "    :return: frekans tablosu\n",
    "    \"\"\"\n",
    "    data = Counter(array) # Nesneleri anahtar ve değer olarak sayan bir sözlüktür.\n",
    "    result = {k: d / len(array) for k, d in data.items()}\n",
    "    return result"
   ]
  },
  {
   "cell_type": "code",
   "execution_count": 6,
   "id": "05f35acc",
   "metadata": {},
   "outputs": [],
   "source": [
    "def find_huffman(p: dict) -> dict:\n",
    "\n",
    "    # Yalnızca iki simgenin temel durumu, keyfi olarak 0 veya 1 atayın; frekans önemli değil\n",
    "    if len(p) == 2:\n",
    "        return dict(zip(p.keys(), ['0', '1']))\n",
    "\n",
    "    # Olası en düşük çifti birleştirerek yeni bir dağıtım oluşturun\n",
    "    p_prime = p.copy()\n",
    "    a1, a2 = lowest_prob_pair(p)\n",
    "    p1, p2 = p_prime.pop(a1), p_prime.pop(a2)\n",
    "    p_prime[a1 + a2] = p1 + p2\n",
    "\n",
    "    # Yeni dağıtımda kodu yineleyin ve oluşturun\n",
    "    c = find_huffman(p_prime)\n",
    "    ca1a2 = c.pop(a1 + a2)\n",
    "    c[a1], c[a2] = ca1a2 + '0', ca1a2 + '1'\n",
    "\n",
    "    return c"
   ]
  },
  {
   "cell_type": "code",
   "execution_count": 7,
   "id": "b63c2f27",
   "metadata": {},
   "outputs": [],
   "source": [
    "def lowest_prob_pair(p):\n",
    "    # En düşük olasılıkla p dağılımından sembol çiftini döndür\n",
    "    sorted_p = sorted(p.items(), key=lambda x: x[1])\n",
    "    return sorted_p[0][0], sorted_p[1][0]"
   ]
  },
  {
   "cell_type": "code",
   "execution_count": 8,
   "id": "3921b5c4",
   "metadata": {},
   "outputs": [],
   "source": [
    "# Niceleme tablolarını tanımlayalım.\n",
    "QTY = np.array([[16, 11, 10, 16, 24, 40, 51, 61],  # luminance quantization table - Parlaklık\n",
    "                [12, 12, 14, 19, 26, 48, 60, 55],\n",
    "                [14, 13, 16, 24, 40, 57, 69, 56],\n",
    "                [14, 17, 22, 29, 51, 87, 80, 62],\n",
    "                [18, 22, 37, 56, 68, 109, 103, 77],\n",
    "                [24, 35, 55, 64, 81, 104, 113, 92],\n",
    "                [49, 64, 78, 87, 103, 121, 120, 101],\n",
    "                [72, 92, 95, 98, 112, 100, 103, 99]])\n",
    "\n",
    "QTC = np.array([[17, 18, 24, 47, 99, 99, 99, 99],  # chrominance quantization table - Renklilik\n",
    "                [18, 21, 26, 66, 99, 99, 99, 99],\n",
    "                [24, 26, 56, 99, 99, 99, 99, 99],\n",
    "                [47, 66, 99, 99, 99, 99, 99, 99],\n",
    "                [99, 99, 99, 99, 99, 99, 99, 99],\n",
    "                [99, 99, 99, 99, 99, 99, 99, 99],\n",
    "                [99, 99, 99, 99, 99, 99, 99, 99],\n",
    "                [99, 99, 99, 99, 99, 99, 99, 99]])\n",
    "# define window size\n",
    "windowSize = len(QTY)  # 8"
   ]
  },
  {
   "cell_type": "code",
   "execution_count": 9,
   "id": "5d527f75",
   "metadata": {},
   "outputs": [
    {
     "name": "stdout",
     "output_type": "stream",
     "text": [
      "image:  (1001, 1419, 3)\n"
     ]
    }
   ],
   "source": [
    "# read image\n",
    "imgOriginal = cv2.imread('marbles.bmp', cv2.IMREAD_COLOR)\n",
    "\n",
    "# convert BGR to YCrCb\n",
    "img = cv2.cvtColor(imgOriginal, cv2.COLOR_BGR2YCR_CB)\n",
    "width = len(img[0]) # 1419 sütun\n",
    "height = len(img)   # 1001 satır\n",
    "print(\"image: \", img.shape)"
   ]
  },
  {
   "cell_type": "code",
   "execution_count": 10,
   "id": "a1815f05",
   "metadata": {},
   "outputs": [
    {
     "name": "stdout",
     "output_type": "stream",
     "text": [
      "Görüntünün sıkıştırılmadan önceki bit cinsinden boyutu:  34090056\n"
     ]
    }
   ],
   "source": [
    "y = np.zeros((height, width), np.float32) + img[:, :, 0]\n",
    "cr = np.zeros((height, width), np.float32) + img[:, :, 1]\n",
    "cb = np.zeros((height, width), np.float32) + img[:, :, 2]\n",
    "\n",
    "# görüntünün sıkıştırılmadan önceki bit cinsinden boyutu  -> satır * sütun * 8\n",
    "totalNumberOfBitsWithoutCompression = len(y) * len(y[0]) * 8 + len(cb) * len(cb[0]) * 8 + len(cr) * len(cr[0]) * 8\n",
    "print(\"Görüntünün sıkıştırılmadan önceki bit cinsinden boyutu: \", totalNumberOfBitsWithoutCompression)"
   ]
  },
  {
   "cell_type": "code",
   "execution_count": 11,
   "id": "d6576ce3",
   "metadata": {},
   "outputs": [],
   "source": [
    "# kanal değerleri normalleştirilmelidir, bu nedenle 128 çıkarıyoruz.\n",
    "y = y - 128\n",
    "cr = cr - 128\n",
    "cb = cb - 128"
   ]
  },
  {
   "cell_type": "code",
   "execution_count": 12,
   "id": "81414712",
   "metadata": {},
   "outputs": [
    {
     "name": "stdout",
     "output_type": "stream",
     "text": [
      "1001\n",
      "501\n"
     ]
    }
   ],
   "source": [
    "# 4: 2: 2 alt örnekleme kullanılır. (başka bir alt örnekleme şeması da kullanılabilir)\n",
    "# bu nedenle krominans (renk) kanalları alt örneklenmelidir\n",
    "# alt örnekleme faktörlerini hem yatay hem de dikey yönlerde tanımlıyoruz.\n",
    "SSH, SSV = 2, 2\n",
    "\n",
    "# 2x2 ortalama filtre kullanarak krominans kanallarını filtreleyelim. (başka bir filtre türü kullanılabilir)\n",
    "# boxFilter() - ortalama alma bulanıklaştırma işlemine benzer; bir filtreye ikili bir görüntü uygular.\n",
    "# ddepth - Çıktı görüntüsünün derinliğini temsil eden tamsayı türünde bir değişken.\n",
    "# ksize - Bulanıklaştıran çekirdeğin boyutunu temsil eden bir Size nesnesi.\n",
    "crf = cv2.boxFilter(cr, ddepth=-1, ksize=(2, 2))\n",
    "cbf = cv2.boxFilter(cb, ddepth=-1, ksize=(2, 2))\n",
    "crSub = crf[::SSV, ::SSH]\n",
    "cbSub = cbf[::SSV, ::SSH]\n",
    "\n",
    "print(len(crf))\n",
    "print(len(crSub))"
   ]
  },
  {
   "cell_type": "code",
   "execution_count": 13,
   "id": "891cd5b8",
   "metadata": {},
   "outputs": [],
   "source": [
    "# dolgu gerekip gerekmediğini kontrol ediyoruz,\n",
    "# Eğer dolgu gerekli ise her kanalın DCT'sini sıfırlarla doldurmak için boş diziler tanımlayalım.\n",
    "yWidth, yLength = ceil(len(y[0]) / windowSize) * windowSize, ceil(len(y) / windowSize) * windowSize\n",
    "# print(\"y_width: \", ceil(len(y[0]) / windowSize) * windowSize)  # 1419 / 8 = 117.375 = 178 * 8 = 1424\n",
    "# print(\"y_length\", ceil(len(y) / windowSize) * windowSize)       # 1001 / 8 = 125.125 = 126 * 8 = 1008\n",
    "if (len(y[0]) % windowSize == 0) and (len(y) % windowSize == 0):  # 1419 % 8 = 3 and 1001 % 8 = 1  (sıfırlarla doldurmamız gerek)\n",
    "    yPadded = y.copy()\n",
    "else:\n",
    "    yPadded = np.zeros((yLength, yWidth))  # (1008, 1424) boyutlu sıfırlardan oluşan dizinin\n",
    "    for i in range(len(y)):  # 1001\n",
    "        for j in range(len(y[0])):  # 1419\n",
    "            yPadded[i, j] += y[i, j]       # ilgili konumlarına eski verileri ekliyoruz. y[0,0]=(-128.0)=yPadded[0,0] gibi\n",
    "\n",
    "# renklilik (chrominance) kanalları aynı boyutlara sahiptir, yani her ikisi de bir döngüde doldurulabilir\n",
    "cWidth, cLength = ceil(len(cbSub[0]) / windowSize) * windowSize, ceil(len(cbSub) / windowSize) * windowSize # 712, 504\n",
    "if (len(cbSub[0]) % windowSize == 0) and (len(cbSub) % windowSize == 0): # 710 % 8 = 6 and 501 % 8 = 5 (sıfırlarla doldurmamız gerek)\n",
    "    crPadded = crSub.copy()\n",
    "    cbPadded = cbSub.copy()\n",
    "else:\n",
    "    crPadded = np.zeros((cLength, cWidth)) # (504, 712)\n",
    "    cbPadded = np.zeros((cLength, cWidth))\n",
    "    for i in range(len(crSub)): # 501\n",
    "        for j in range(len(crSub[0])): # 710\n",
    "            crPadded[i, j] += crSub[i, j]\n",
    "            cbPadded[i, j] += cbSub[i, j]"
   ]
  },
  {
   "cell_type": "code",
   "execution_count": 14,
   "id": "154fa37f",
   "metadata": {},
   "outputs": [],
   "source": [
    "# her kanalın DCT'sini al\n",
    "# üç boş matris tanımla\n",
    "yDct, crDct, cbDct = np.zeros((yLength, yWidth)), np.zeros((cLength, cWidth)), np.zeros((cLength, cWidth))\n",
    "\n",
    "# parlaklık kosinüs dönüşüm değerlerini hesaplamak için x ekseni ve y ekseni üzerindeki yineleme sayısı\n",
    "hBlocksForY = int(len(yDct[0]) / windowSize)  # parlaklık için yatay yönde blok sayısı 178\n",
    "vBlocksForY = int(len(yDct) / windowSize)  # parlaklık için dikey yönde blok sayısı 126\n",
    "# krominans kanallarını hesaplamak için x ekseni ve y eksenindeki yineleme sayısı kosinüs dönüşümleri değerleri\n",
    "hBlocksForC = int(len(crDct[0]) / windowSize)  # renklilik için yatay yönde blok sayısı 89\n",
    "vBlocksForC = int(len(crDct) / windowSize)  # renklilik için dikey yönde blok sayısı 63\n",
    "\n",
    "# nicelenmiş değerleri depolamak için 3 boş matris tanımlayın\n",
    "yq, crq, cbq = np.zeros((yLength, yWidth)), np.zeros((cLength, cWidth)), np.zeros((cLength, cWidth))\n",
    "# ve zikzaklar için 3 tane daha\n",
    "yZigzag = np.zeros(((vBlocksForY * hBlocksForY), windowSize * windowSize))\n",
    "crZigzag = np.zeros(((vBlocksForC * hBlocksForC), windowSize * windowSize))\n",
    "cbZigzag = np.zeros(((vBlocksForC * hBlocksForC), windowSize * windowSize))"
   ]
  },
  {
   "cell_type": "code",
   "execution_count": 15,
   "id": "7250f546",
   "metadata": {},
   "outputs": [],
   "source": [
    "yCounter = 0\n",
    "for i in range(vBlocksForY): # 126\n",
    "    for j in range(hBlocksForY): # 178\n",
    "        # Ayrık Kosinüs Dönüşümü\n",
    "        yDct[i * windowSize: i * windowSize + windowSize, j * windowSize: j * windowSize + windowSize] = cv2.dct(\n",
    "            yPadded[i * windowSize: i * windowSize + windowSize, j * windowSize: j * windowSize + windowSize])\n",
    "        # Niceleme\n",
    "        yq[i * windowSize: i * windowSize + windowSize, j * windowSize: j * windowSize + windowSize] = np.ceil(\n",
    "            yDct[i * windowSize: i * windowSize + windowSize, j * windowSize: j * windowSize + windowSize] / QTY)\n",
    "        # Zigzag\n",
    "        yZigzag[yCounter] += zigzag(\n",
    "            yq[i * windowSize: i * windowSize + windowSize, j * windowSize: j * windowSize + windowSize])\n",
    "        yCounter += 1\n",
    "yZigzag = yZigzag.astype(np.int16)\n",
    "\n",
    "# blok sayısını hesaplamak için crq veya cbq kullanılabilir.\n",
    "cCounter = 0\n",
    "for i in range(vBlocksForC):\n",
    "    for j in range(hBlocksForC):\n",
    "        crDct[i * windowSize: i * windowSize + windowSize, j * windowSize: j * windowSize + windowSize] = cv2.dct(\n",
    "            crPadded[i * windowSize: i * windowSize + windowSize, j * windowSize: j * windowSize + windowSize])\n",
    "        crq[i * windowSize: i * windowSize + windowSize, j * windowSize: j * windowSize + windowSize] = np.ceil(\n",
    "            crDct[i * windowSize: i * windowSize + windowSize, j * windowSize: j * windowSize + windowSize] / QTC)\n",
    "        crZigzag[cCounter] += zigzag(\n",
    "            crq[i * windowSize: i * windowSize + windowSize, j * windowSize: j * windowSize + windowSize])\n",
    "        cbDct[i * windowSize: i * windowSize + windowSize, j * windowSize: j * windowSize + windowSize] = cv2.dct(\n",
    "            cbPadded[i * windowSize: i * windowSize + windowSize, j * windowSize: j * windowSize + windowSize])\n",
    "        cbq[i * windowSize: i * windowSize + windowSize, j * windowSize: j * windowSize + windowSize] = np.ceil(\n",
    "            cbDct[i * windowSize: i * windowSize + windowSize, j * windowSize: j * windowSize + windowSize] / QTC)\n",
    "        cbZigzag[cCounter] += zigzag(\n",
    "            cbq[i * windowSize: i * windowSize + windowSize, j * windowSize: j * windowSize + windowSize])\n",
    "        cCounter += 1\n",
    "crZigzag = crZigzag.astype(np.int16)\n",
    "cbZigzag = cbZigzag.astype(np.int16)"
   ]
  },
  {
   "cell_type": "code",
   "execution_count": 16,
   "id": "a0913858",
   "metadata": {},
   "outputs": [],
   "source": [
    "# her kanal için çalışma uzunluğu kodlamasını bulun\n",
    "# daha sonra bir Huffman sözlüğü oluşturmak için her bileşenin frekansını alın\n",
    "yEncoded = run_length_encoding(yZigzag)\n",
    "yFrequencyTable = get_freq_dict(yEncoded)\n",
    "yHuffman = find_huffman(yFrequencyTable)\n",
    "\n",
    "crEncoded = run_length_encoding(crZigzag)\n",
    "crFrequencyTable = get_freq_dict(crEncoded)\n",
    "crHuffman = find_huffman(crFrequencyTable)\n",
    "\n",
    "cbEncoded = run_length_encoding(cbZigzag)\n",
    "cbFrequencyTable = get_freq_dict(cbEncoded)\n",
    "cbHuffman = find_huffman(cbFrequencyTable)"
   ]
  },
  {
   "cell_type": "code",
   "execution_count": 17,
   "id": "d6e565f2",
   "metadata": {},
   "outputs": [
    {
     "name": "stdout",
     "output_type": "stream",
     "text": [
      "Sıkıştırma Oranı: 10.9\n"
     ]
    }
   ],
   "source": [
    "# Her kanal için iletilecek bit sayısını hesaplayın\n",
    "# ve bunları bir çıktı dosyasına yazın\n",
    "file = open(\"CompressedImage.asfh\", \"w\")\n",
    "yBitsToTransmit = str()\n",
    "for value in yEncoded:\n",
    "    yBitsToTransmit += yHuffman[value]\n",
    "\n",
    "crBitsToTransmit = str()\n",
    "for value in crEncoded:\n",
    "    crBitsToTransmit += crHuffman[value]\n",
    "\n",
    "cbBitsToTransmit = str()\n",
    "for value in cbEncoded:\n",
    "    cbBitsToTransmit += cbHuffman[value]\n",
    "\n",
    "if file.writable():\n",
    "    file.write(yBitsToTransmit + \"\\n\" + crBitsToTransmit + \"\\n\" + cbBitsToTransmit)\n",
    "file.close()\n",
    "\n",
    "# Sıkıştırmadan Sonra Toplam Bit Sayısı\n",
    "totalNumberOfBitsAfterCompression = len(yBitsToTransmit) + len(crBitsToTransmit) + len(cbBitsToTransmit)\n",
    "# 2198128 + 457967 + 465325 = 3121420\n",
    "\n",
    "print(\n",
    "    \"Sıkıştırma Oranı: \" + str(\n",
    "        np.round(totalNumberOfBitsWithoutCompression / totalNumberOfBitsAfterCompression, 1)))\n",
    "\n",
    "# Sıkıştırma Olmadan Toplam Bit Sayısı / Sıkıştırmadan Sonra Toplam Bit Sayısı = 34090056 / 3121420 = 10.9"
   ]
  },
  {
   "cell_type": "code",
   "execution_count": null,
   "id": "3a446d30",
   "metadata": {},
   "outputs": [],
   "source": []
  }
 ],
 "metadata": {
  "kernelspec": {
   "display_name": "Python 3 (ipykernel)",
   "language": "python",
   "name": "python3"
  },
  "language_info": {
   "codemirror_mode": {
    "name": "ipython",
    "version": 3
   },
   "file_extension": ".py",
   "mimetype": "text/x-python",
   "name": "python",
   "nbconvert_exporter": "python",
   "pygments_lexer": "ipython3",
   "version": "3.10.9"
  }
 },
 "nbformat": 4,
 "nbformat_minor": 5
}
